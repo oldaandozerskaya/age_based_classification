{
  "nbformat": 4,
  "nbformat_minor": 0,
  "metadata": {
    "kernelspec": {
      "display_name": "Python 3",
      "language": "python",
      "name": "python3"
    },
    "language_info": {
      "codemirror_mode": {
        "name": "ipython",
        "version": 3
      },
      "file_extension": ".py",
      "mimetype": "text/x-python",
      "name": "python",
      "nbconvert_exporter": "python",
      "pygments_lexer": "ipython3",
      "version": "3.7.3"
    },
    "colab": {
      "name": "feedforward_bert_age_rating",
      "provenance": [],
      "collapsed_sections": [],
      "include_colab_link": true
    }
  },
  "cells": [
    {
      "cell_type": "markdown",
      "metadata": {
        "id": "view-in-github",
        "colab_type": "text"
      },
      "source": [
        "<a href=\"https://colab.research.google.com/github/oldaandozerskaya/age_based_classification/blob/master/feedforward_bert_age_rating.ipynb\" target=\"_parent\"><img src=\"https://colab.research.google.com/assets/colab-badge.svg\" alt=\"Open In Colab\"/></a>"
      ]
    },
    {
      "cell_type": "code",
      "metadata": {
        "id": "GJwZ__l4X1Nw"
      },
      "source": [
        "!pip install pymorphy2\n",
        "import numpy as np\n",
        "import pandas as pd\n",
        "import math\n",
        "from sklearn.preprocessing import OneHotEncoder\n",
        "import pymorphy2, re, os, pickle\n",
        "\n",
        "import keras\n",
        "from keras import Sequential\n",
        "from keras.preprocessing.text import Tokenizer\n",
        "from keras.preprocessing.sequence import pad_sequences\n",
        "from keras.utils import to_categorical\n",
        "\n",
        "from keras.layers import Input, Embedding, Activation, Flatten, Dense, concatenate\n",
        "from keras.layers import Conv1D, MaxPooling1D, Dropout, LSTM\n",
        "from keras.models import Model"
      ],
      "execution_count": null,
      "outputs": []
    },
    {
      "cell_type": "code",
      "metadata": {
        "id": "as_9W27suOMt"
      },
      "source": [
        "from google.colab import drive\n",
        "drive.mount('/content/drive')"
      ],
      "execution_count": null,
      "outputs": []
    },
    {
      "cell_type": "code",
      "metadata": {
        "id": "22QdfiCkvjhC"
      },
      "source": [
        "#get age ratings\n",
        "\n",
        "PATH_DESCRIPTIONS = '/content/drive/My Drive/children_and_adults/corpus/description.csv'\n",
        "PATH_TRAIN = '/content/drive/My Drive/children_and_adults/corpus/train/'\n",
        "PATH_TEST = '/content/drive/My Drive/children_and_adults/corpus/test/'\n",
        "\n",
        "df=pd.read_csv(PATH_DESCRIPTIONS, sep=';', header=None)\n",
        "\n",
        "dictionary = dict(zip(df[0], df[3]))\n",
        "print(dictionary)\n",
        "\n",
        "files_train=os.listdir(PATH_TRAIN)\n",
        "print('len train: {}'.format(len(files_train)))\n",
        "files_test=os.listdir(PATH_TEST)\n",
        "print('len test: {}'.format(len(files_test)))"
      ],
      "execution_count": null,
      "outputs": []
    },
    {
      "cell_type": "code",
      "metadata": {
        "id": "Aa4uy6hUwzIl"
      },
      "source": [
        "#get bert embs\n",
        "df = pd.read_csv('/content/drive/My Drive/children_and_adults/bert_embs_train.csv', index_col=0)\n",
        "bert_embs_train = df.values\n",
        "df = pd.read_csv('/content/drive/My Drive/children_and_adults/bert_embs_test.csv', index_col=0)\n",
        "bert_embs_test = df.values"
      ],
      "execution_count": null,
      "outputs": []
    },
    {
      "cell_type": "code",
      "metadata": {
        "id": "Tag5md65xRmJ"
      },
      "source": [
        "train_age_ratings = []\n",
        "\n",
        "for f in files_train:\n",
        "  train_age_ratings.append(dictionary[f])\n",
        "\n",
        "test_age_ratings = []\n",
        "\n",
        "for f in files_test:\n",
        "  test_age_ratings.append(dictionary[f])\n",
        "\n",
        "train_age_ratings = np.array(train_age_ratings)\n",
        "train_age_ratings.shape = (4492,1)\n",
        "test_age_ratings = np.array(test_age_ratings)\n",
        "test_age_ratings.shape = (1000,1)\n",
        "\n",
        "enc = OneHotEncoder(handle_unknown='ignore')\n",
        "enc.fit(train_age_ratings)\n",
        "train_age_ratings = enc.transform(train_age_ratings).toarray()\n",
        "test_age_ratings = enc.transform(test_age_ratings).toarray()\n",
        "\n",
        "train_age_ratings.shape"
      ],
      "execution_count": null,
      "outputs": []
    },
    {
      "cell_type": "code",
      "metadata": {
        "id": "H53Q9wxUx2fW"
      },
      "source": [
        "#merge age ratings and bert embs\n",
        "\n",
        "train_data = np.hstack((bert_embs_train,train_age_ratings))\n",
        "test_data = np.hstack((bert_embs_test,test_age_ratings))\n",
        "\n",
        "train_data.shape"
      ],
      "execution_count": null,
      "outputs": []
    },
    {
      "cell_type": "code",
      "metadata": {
        "id": "5-YG15K61Ss5"
      },
      "source": [
        "#get labels\n",
        "\n",
        "with open('/content/drive/My Drive/children_and_adults/train_labels.pickle', 'rb') as handle:\n",
        "    train_labels=pickle.load(handle)\n",
        "with open('/content/drive/My Drive/children_and_adults/test_labels.pickle', 'rb') as handle:\n",
        "    test_labels=pickle.load(handle)"
      ],
      "execution_count": null,
      "outputs": []
    },
    {
      "cell_type": "code",
      "metadata": {
        "id": "ocOPGf6pZAXz"
      },
      "source": [
        "import math\n",
        "border = math.ceil(0.9 * train_data.shape[0])\n",
        "\n",
        "x_train, x_val = train_data[:border], train_data[border:]\n",
        "train_labels, val_labels = train_labels[:border], train_labels[border:]"
      ],
      "execution_count": null,
      "outputs": []
    },
    {
      "cell_type": "code",
      "metadata": {
        "id": "EXiZu0hCcdIf"
      },
      "source": [
        "#labels to categorical\n",
        "\n",
        "train_labels = keras.utils.to_categorical(np.array(train_labels),2)\n",
        "val_labels = keras.utils.to_categorical(np.array(val_labels),2)\n",
        "test_labels = keras.utils.to_categorical(np.array(test_labels),2)"
      ],
      "execution_count": null,
      "outputs": []
    },
    {
      "cell_type": "code",
      "metadata": {
        "id": "OFT09a2ui9yc"
      },
      "source": [
        "inputs=Input(shape=(775,), name='input')\n",
        "x=Dense(1024, activation='tanh', name='fully_connected_1024_tanh')(inputs)\n",
        "\n",
        "#x=Dense(1024, activation='tanh', name='fully_connected_32')(x)\n",
        "predictions=Dense(2, activation='softmax', name='output_softmax')(x)\n",
        "model=Model(inputs=inputs, outputs=predictions)\n",
        "model.compile(optimizer='adam', loss='binary_crossentropy', metrics=['accuracy'])\n",
        "model.summary()\n",
        "\n",
        "from keras.utils import plot_model\n",
        "plot_model(model, to_file='fnn.png')"
      ],
      "execution_count": null,
      "outputs": []
    },
    {
      "cell_type": "code",
      "metadata": {
        "id": "B5fR70SqauOj"
      },
      "source": [
        "from sklearn.metrics import accuracy_score, f1_score, recall_score, precision_score\n",
        "\n",
        "history = model.fit(x_train, train_labels, epochs=1, verbose=0, validation_data=(x_val, val_labels))\n",
        "predict = np.argmax(model.predict(test_data), axis=1)\n",
        "answer = np.argmax(test_labels, axis=1)\n",
        "\n",
        "f1=f1_score(predict, answer)*100\n",
        "prec=precision_score(predict, answer)*100\n",
        "recall=recall_score(predict, answer)*100\n",
        "accuracy=accuracy_score(predict, answer)*100\n",
        "\n",
        "print('Готово!')\n",
        "print('f1 = {}, accuracy = {}, precision = {}, recall = {}'.format(f1,accuracy,prec,recall))"
      ],
      "execution_count": null,
      "outputs": []
    }
  ]
}
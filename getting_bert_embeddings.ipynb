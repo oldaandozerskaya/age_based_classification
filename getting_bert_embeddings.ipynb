{
  "nbformat": 4,
  "nbformat_minor": 0,
  "metadata": {
    "colab": {
      "name": "getting_bert_embeddings.ipynb",
      "provenance": [],
      "authorship_tag": "ABX9TyMmo632Nd+kxb4GnqjVkOe5",
      "include_colab_link": true
    },
    "kernelspec": {
      "name": "python3",
      "display_name": "Python 3"
    }
  },
  "cells": [
    {
      "cell_type": "markdown",
      "metadata": {
        "id": "view-in-github",
        "colab_type": "text"
      },
      "source": [
        "<a href=\"https://colab.research.google.com/github/oldaandozerskaya/age_based_classification/blob/master/getting_bert_embeddings.ipynb\" target=\"_parent\"><img src=\"https://colab.research.google.com/assets/colab-badge.svg\" alt=\"Open In Colab\"/></a>"
      ]
    },
    {
      "cell_type": "code",
      "metadata": {
        "id": "DnpV_-zIZR90"
      },
      "source": [
        "!pip install deeppavlov\n",
        "import deeppavlov\n",
        "from deeppavlov.core.common.file import read_json\n",
        "from deeppavlov import build_model, configs"
      ],
      "execution_count": null,
      "outputs": []
    },
    {
      "cell_type": "code",
      "metadata": {
        "id": "7yk5B3xVawWZ"
      },
      "source": [
        "import torch\n",
        "from transformers import BertTokenizer, BertModel"
      ],
      "execution_count": null,
      "outputs": []
    },
    {
      "cell_type": "code",
      "metadata": {
        "id": "MXJNwLgIay49"
      },
      "source": [
        "tokenizer = BertTokenizer.from_pretrained('/content/drive/My Drive/children_and_adults/rubert')\n",
        "model = BertModel.from_pretrained('/content/drive/My Drive/children_and_adults/rubert')\n",
        "input_ids = torch.tensor(tokenizer.encode(train_texts[0][:1000])).unsqueeze(0)  # Batch size 1\n",
        "outputs = model(input_ids)\n",
        "last_hidden_states = outputs[0]  # The last hidden-state is the first element of the output tuple\n",
        "print(last_hidden_states[0].shape)\n",
        "print(last_hidden_states[0])\n",
        "\n",
        "print(np.average(last_hidden_states[0].detach().cpu().numpy(), axis  = 0).shape)"
      ],
      "execution_count": null,
      "outputs": []
    }
  ]
}